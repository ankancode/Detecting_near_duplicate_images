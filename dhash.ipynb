{
 "cells": [
  {
   "cell_type": "code",
   "execution_count": 1,
   "metadata": {},
   "outputs": [],
   "source": [
    "import cv2\n",
    "import numpy as np\n",
    "import os\n",
    "import shutil \n",
    "import time\n",
    "from PIL import Image\n",
    "import pandas as pd\n",
    "from matplotlib import pyplot as plt\n",
    "from scipy.fftpack import fft, dct\n",
    "import json\n",
    "import pickle"
   ]
  },
  {
   "cell_type": "code",
   "execution_count": 2,
   "metadata": {},
   "outputs": [],
   "source": [
    "## Hashing with Dhash ##\n",
    "\n",
    "def dhash(image, hash_size=8):\n",
    "    pixels = prepare_image(image, hash_size, hash_size+1)\n",
    "    diff = pixels[1:,:] > pixels[:-1,:]\n",
    "    return sum([2 ** i for (i, v) in enumerate(diff.flatten()) if v])"
   ]
  },
  {
   "cell_type": "code",
   "execution_count": 3,
   "metadata": {},
   "outputs": [],
   "source": [
    "## Hashing with Phash ##\n",
    "\n",
    "def phash(image, hash_size=32):\n",
    "    pixels = prepare_image(image, hash_size)\n",
    "    pixels = pixels.astype(np.float)\n",
    "    pixels *= 1./255\n",
    "    dct_1 = dct(pixels)\n",
    "    dctlowfreq = dct_1[:8, 1:9]\n",
    "    avg = dctlowfreq.mean()\n",
    "    diff = dctlowfreq > avg\n",
    "    return sum([2 ** i for (i, v) in enumerate(diff.flatten()) if v])"
   ]
  },
  {
   "cell_type": "code",
   "execution_count": 4,
   "metadata": {},
   "outputs": [],
   "source": [
    "## Preparing Data for Hashing ##\n",
    "\n",
    "def prepare_image(image, size1, size2=None):\n",
    "    if not size2:\n",
    "        size2 = size1\n",
    "    res = cv2.cvtColor(image, cv2.COLOR_BGR2GRAY)\n",
    "    res = cv2.resize(res, (size1, size2), interpolation=cv2.INTER_AREA)\n",
    "    return res"
   ]
  },
  {
   "cell_type": "code",
   "execution_count": 5,
   "metadata": {},
   "outputs": [],
   "source": [
    "## Calculating the hamming Distance ##\n",
    "\n",
    "def hamming(h1, h2):\n",
    "    h, d = 0, h1 ^ h2\n",
    "    while d:\n",
    "        h += 1\n",
    "        d &= d - 1\n",
    "    return h"
   ]
  },
  {
   "cell_type": "code",
   "execution_count": 6,
   "metadata": {},
   "outputs": [],
   "source": [
    "## Calculating dhash for all the tops image in our inventory ##\n",
    "## I used dhash over phash as it was performing better ##\n",
    "\n",
    "if __name__ == '__main__':\n",
    "\n",
    "    directory = \"/home/ankan/Projects/infilect/images\"\n",
    "    file = []\n",
    "    hashcode =[]\n",
    "    for fn in os.listdir(directory):\n",
    "        image_path =  os.path.join(directory,fn)\n",
    "        image = cv2.imread(image_path)\n",
    "        hash_code = dhash(image)\n",
    "        file.append(fn)\n",
    "        hashcode.append(hash_code)\n",
    "        "
   ]
  },
  {
   "cell_type": "code",
   "execution_count": 7,
   "metadata": {},
   "outputs": [],
   "source": [
    "hashcode_df = pd.DataFrame(list(zip(file, hashcode)), columns=['file', 'hashcode'])"
   ]
  },
  {
   "cell_type": "code",
   "execution_count": 8,
   "metadata": {},
   "outputs": [],
   "source": [
    "## Dumping the hashcode dataframe for further comparision ##\n",
    "\n",
    "with open('hashcode_df.pickle', 'wb') as handle:\n",
    "    pickle.dump(hashcode_df,handle, protocol=pickle.HIGHEST_PROTOCOL)"
   ]
  },
  {
   "cell_type": "code",
   "execution_count": null,
   "metadata": {},
   "outputs": [],
   "source": [
    "'''\n",
    "image_name = \"TOPE5X8TM6VARFFV.jpg\"\n",
    "image_path =  os.path.join(directory, image_name)\n",
    "image = cv2.imread(image_path)\n",
    "hash_code = dhash(image)\n",
    "image = cv2.cvtColor(image, cv2.COLOR_BGR2RGB)\n",
    "image.shape\n",
    "plt.subplot(111),plt.imshow(image),plt.title('ORIGINAL')\n",
    "plt.show()\n",
    "print(hash_code)\n",
    "dist = hamming(524633760037619760, 5145300589440667696)\n",
    "simm = (64 - dist) * 100 / 64\n",
    "print(simm)\n",
    "data = {}\n",
    "l = []\n",
    "name = image_name.split('.')[0]\n",
    "for index, row in hashcode_df.iterrows():\n",
    "    \n",
    "    if row.hashcode == hash_code and row.file != image_name:\n",
    "        l.append(row.file.split('.')[0])\n",
    "        image = cv2.imread(os.path.join(directory,row.file))\n",
    "        image = cv2.cvtColor(image, cv2.COLOR_BGR2RGB)\n",
    "        plt.subplot(111),plt.imshow(image),plt.title('ORIGINAL')\n",
    "        plt.show()\n",
    "data[name] = l\n",
    "'''"
   ]
  }
 ],
 "metadata": {
  "kernelspec": {
   "display_name": "Python 3",
   "language": "python",
   "name": "python3"
  },
  "language_info": {
   "codemirror_mode": {
    "name": "ipython",
    "version": 3
   },
   "file_extension": ".py",
   "mimetype": "text/x-python",
   "name": "python",
   "nbconvert_exporter": "python",
   "pygments_lexer": "ipython3",
   "version": "3.6.4"
  }
 },
 "nbformat": 4,
 "nbformat_minor": 2
}
