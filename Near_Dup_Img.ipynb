{
 "cells": [
  {
   "cell_type": "code",
   "execution_count": 23,
   "metadata": {},
   "outputs": [],
   "source": [
    "import pandas as pd\n",
    "import numpy as np\n",
    "import pickle\n",
    "import json\n",
    "import cv2\n",
    "from PIL import Image\n",
    "from matplotlib import pyplot as plt\n",
    "import os"
   ]
  },
  {
   "cell_type": "code",
   "execution_count": 24,
   "metadata": {},
   "outputs": [],
   "source": [
    "with open('hashcode_df.pickle', 'rb') as handle:\n",
    "    hashcode_df = pickle.load(handle)"
   ]
  },
  {
   "cell_type": "code",
   "execution_count": 25,
   "metadata": {},
   "outputs": [],
   "source": [
    "def dhash(image, hash_size=8):\n",
    "    pixels = prepare_image(image, hash_size, hash_size+1)\n",
    "    diff = pixels[1:,:] > pixels[:-1,:]\n",
    "    return sum([2 ** i for (i, v) in enumerate(diff.flatten()) if v])\n",
    "\n",
    "def prepare_image(image, size1, size2=None):\n",
    "    if not size2:\n",
    "        size2 = size1\n",
    "    res = cv2.cvtColor(image, cv2.COLOR_BGR2GRAY)\n",
    "    res = cv2.resize(res, (size1, size2), interpolation=cv2.INTER_AREA)\n",
    "    return res\n",
    "\n",
    "def hamming(h1, h2):\n",
    "    h, d = 0, h1 ^ h2\n",
    "    while d:\n",
    "        h += 1\n",
    "        d &= d - 1\n",
    "    return h"
   ]
  },
  {
   "cell_type": "code",
   "execution_count": 26,
   "metadata": {},
   "outputs": [
    {
     "name": "stdout",
     "output_type": "stream",
     "text": [
      "TKTEE8A2XYSPYFWP.jpg TKTEC88BHKXH2PYZ.jpg\n"
     ]
    }
   ],
   "source": [
    "if __name__ == '__main__':\n",
    "   \n",
    "    with open('hashcode_df.pickle', 'rb') as handle:\n",
    "        hashcode_df = pickle.load(handle)\n",
    "\n",
    "    image_name = [str(x) for x in input().split()]\n",
    "    directory = \"/home/ankan/Projects/infilect/images\"\n",
    "    data = {}\n",
    "\n",
    "    ## Calculating the similarity score of our input images with our inventory of tops images ##\n",
    "    \n",
    "    for file in image_name:\n",
    "        image_path =  os.path.join(directory, file)\n",
    "        image = cv2.imread(image_path)\n",
    "        hash_code = dhash(image)\n",
    "        sim_list = []\n",
    "        name = file.split('.')[0]\n",
    "        for index, row in hashcode_df.iterrows():\n",
    "            dist = hamming(hash_code, row.hashcode)\n",
    "            simm = (64 - dist) * 100 / 64\n",
    "            if simm>=90 and row.file != image_name:\n",
    "                sim_list.append((row.file.split('.')[0], simm))\n",
    "            \n",
    "        data[name] = sim_list\n",
    "        \n",
    "    ## Dumping the json output file ##    \n",
    "\n",
    "    with open('near_duplicate_image.json', 'w') as outfile:\n",
    "        json.dump(data, outfile)"
   ]
  },
  {
   "cell_type": "code",
   "execution_count": null,
   "metadata": {},
   "outputs": [],
   "source": []
  }
 ],
 "metadata": {
  "kernelspec": {
   "display_name": "Python 3",
   "language": "python",
   "name": "python3"
  },
  "language_info": {
   "codemirror_mode": {
    "name": "ipython",
    "version": 3
   },
   "file_extension": ".py",
   "mimetype": "text/x-python",
   "name": "python",
   "nbconvert_exporter": "python",
   "pygments_lexer": "ipython3",
   "version": "3.6.4"
  }
 },
 "nbformat": 4,
 "nbformat_minor": 2
}
